{
 "cells": [
  {
   "cell_type": "markdown",
   "id": "95acc803-5126-4b7f-a366-50cda142abef",
   "metadata": {},
   "source": [
    "Python Project for Data Science"
   ]
  },
  {
   "cell_type": "code",
   "execution_count": null,
   "id": "bf4ab5dd-5b7e-45ea-a6b7-a848af81f1bf",
   "metadata": {},
   "outputs": [],
   "source": [
    "!pip install yfinance\n",
    "!pip install matplotlib"
   ]
  },
  {
   "cell_type": "code",
   "execution_count": null,
   "id": "1e8a18d2-634b-45ce-8f98-ff66b94fe6d6",
   "metadata": {},
   "outputs": [],
   "source": [
    "import yfinance as yf\n",
    "import pandas as pd"
   ]
  },
  {
   "cell_type": "code",
   "execution_count": null,
   "id": "658eb83e-68cc-4e6f-b334-e541397a96f2",
   "metadata": {},
   "outputs": [],
   "source": [
    "tesla = yf.Ticker(\"TSLA\")"
   ]
  },
  {
   "cell_type": "code",
   "execution_count": null,
   "id": "05df0598-c3ef-40c3-97d8-c563b2f20758",
   "metadata": {},
   "outputs": [],
   "source": [
    "tesla_data = tesla.history(period=\"max\")"
   ]
  },
  {
   "cell_type": "code",
   "execution_count": null,
   "id": "85342e92-eaa8-4522-978c-1b2b5baa022e",
   "metadata": {},
   "outputs": [],
   "source": [
    "tesla_data.reset_index(inplace=True)\n",
    "tesla_data.head()"
   ]
  },
  {
   "cell_type": "code",
   "execution_count": null,
   "id": "08077f79-8c0e-42ef-ab89-8cc6b1f0c462",
   "metadata": {},
   "outputs": [],
   "source": [
    "tesla_data.plot(x=\"Date\", y=\"Open\")"
   ]
  },
  {
   "cell_type": "code",
   "execution_count": null,
   "id": "307375f4-25b1-4b82-b4b5-7bde8ee143fb",
   "metadata": {},
   "outputs": [],
   "source": [
    "tesla_revenue = tesla.revenue_estimate\n",
    "tesla_revenue.tail()"
   ]
  },
  {
   "cell_type": "code",
   "execution_count": null,
   "id": "fdf125f4-977a-4591-a241-5a58988744d0",
   "metadata": {},
   "outputs": [],
   "source": [
    "gme = yf.Ticker(\"GME\")\n",
    "gme_data = gme.history(period=\"max\")\n",
    "gme_data.reset_index(inplace=True)\n",
    "gme_data.head()"
   ]
  },
  {
   "cell_type": "code",
   "execution_count": null,
   "id": "81eef71f-20e3-4a99-b623-4ba49cb3e736",
   "metadata": {},
   "outputs": [],
   "source": []
  }
 ],
 "metadata": {
  "kernelspec": {
   "display_name": "Python 3 (ipykernel)",
   "language": "python",
   "name": "python3"
  },
  "language_info": {
   "codemirror_mode": {
    "name": "ipython",
    "version": 3
   },
   "file_extension": ".py",
   "mimetype": "text/x-python",
   "name": "python",
   "nbconvert_exporter": "python",
   "pygments_lexer": "ipython3",
   "version": "3.12.8"
  }
 },
 "nbformat": 4,
 "nbformat_minor": 5
}
